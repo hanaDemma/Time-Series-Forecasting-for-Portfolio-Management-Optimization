{
 "cells": [
  {
   "cell_type": "markdown",
   "metadata": {},
   "source": [
    "> # Time Series Forecasting And Portfolio Optimization (GMF) Investments"
   ]
  },
  {
   "cell_type": "code",
   "execution_count": 1,
   "metadata": {},
   "outputs": [],
   "source": [
    "import os\n",
    "os.chdir('..')\n",
    "import warnings\n",
    "warnings.filterwarnings('ignore')\n"
   ]
  },
  {
   "cell_type": "code",
   "execution_count": 2,
   "metadata": {},
   "outputs": [],
   "source": [
    "import pandas as pd # type: ignore\n",
    "import matplotlib.pyplot as plt # type: ignore\n",
    "import seaborn as sns # type: ignore\n",
    "import numpy as np # type: ignore\n",
    "import yfinance as yf # type: ignore\n",
    "from statsmodels.tsa.seasonal import seasonal_decompose # type: ignore"
   ]
  },
  {
   "cell_type": "markdown",
   "metadata": {},
   "source": [
    "> ## ♻️ Preprocess and Explore the Data"
   ]
  },
  {
   "cell_type": "markdown",
   "metadata": {},
   "source": [
    "> > ##### Load, Prepare and understand the historical financial data for Tesla, BND, and SPY over the period from January 1, 2015, to  January 31, 2025., using YFinance"
   ]
  },
  {
   "cell_type": "code",
   "execution_count": 3,
   "metadata": {},
   "outputs": [
    {
     "name": "stdout",
     "output_type": "stream",
     "text": [
      "YF.download() has changed argument auto_adjust default to True\n"
     ]
    },
    {
     "name": "stderr",
     "output_type": "stream",
     "text": [
      "[*********************100%***********************]  1 of 1 completed\n",
      "[*********************100%***********************]  1 of 1 completed\n",
      "[*********************100%***********************]  1 of 1 completed\n"
     ]
    }
   ],
   "source": [
    "from scripts.data_loader import loadData\n",
    "tsla_data, bnd_data, spy_data = loadData()"
   ]
  },
  {
   "cell_type": "markdown",
   "metadata": {},
   "source": [
    "> ## 🛢️ TSLA Datasets"
   ]
  },
  {
   "cell_type": "code",
   "execution_count": 4,
   "metadata": {},
   "outputs": [
    {
     "name": "stdout",
     "output_type": "stream",
     "text": [
      "Number of rows: 2535\n",
      "Number of columns: 6\n"
     ]
    }
   ],
   "source": [
    "rows, columns = tsla_data.shape\n",
    "print(f\"Number of rows: {rows}\")\n",
    "print(f\"Number of columns: {columns}\")"
   ]
  },
  {
   "cell_type": "code",
   "execution_count": 5,
   "metadata": {},
   "outputs": [
    {
     "data": {
      "text/html": [
       "<div>\n",
       "<style scoped>\n",
       "    .dataframe tbody tr th:only-of-type {\n",
       "        vertical-align: middle;\n",
       "    }\n",
       "\n",
       "    .dataframe tbody tr th {\n",
       "        vertical-align: top;\n",
       "    }\n",
       "\n",
       "    .dataframe thead tr th {\n",
       "        text-align: left;\n",
       "    }\n",
       "\n",
       "    .dataframe thead tr:last-of-type th {\n",
       "        text-align: right;\n",
       "    }\n",
       "</style>\n",
       "<table border=\"1\" class=\"dataframe\">\n",
       "  <thead>\n",
       "    <tr>\n",
       "      <th>Price</th>\n",
       "      <th>Open</th>\n",
       "      <th>High</th>\n",
       "      <th>Low</th>\n",
       "      <th>Close</th>\n",
       "      <th>Adj Close</th>\n",
       "      <th>Volume</th>\n",
       "    </tr>\n",
       "    <tr>\n",
       "      <th>Ticker</th>\n",
       "      <th>TSLA</th>\n",
       "      <th>TSLA</th>\n",
       "      <th>TSLA</th>\n",
       "      <th>TSLA</th>\n",
       "      <th></th>\n",
       "      <th>TSLA</th>\n",
       "    </tr>\n",
       "    <tr>\n",
       "      <th>Date</th>\n",
       "      <th></th>\n",
       "      <th></th>\n",
       "      <th></th>\n",
       "      <th></th>\n",
       "      <th></th>\n",
       "      <th></th>\n",
       "    </tr>\n",
       "  </thead>\n",
       "  <tbody>\n",
       "    <tr>\n",
       "      <th>2015-01-02</th>\n",
       "      <td>14.858000</td>\n",
       "      <td>14.883333</td>\n",
       "      <td>14.217333</td>\n",
       "      <td>14.620667</td>\n",
       "      <td>14.620667</td>\n",
       "      <td>71466000</td>\n",
       "    </tr>\n",
       "    <tr>\n",
       "      <th>2015-01-05</th>\n",
       "      <td>14.303333</td>\n",
       "      <td>14.433333</td>\n",
       "      <td>13.810667</td>\n",
       "      <td>14.006000</td>\n",
       "      <td>14.006000</td>\n",
       "      <td>80527500</td>\n",
       "    </tr>\n",
       "    <tr>\n",
       "      <th>2015-01-06</th>\n",
       "      <td>14.004000</td>\n",
       "      <td>14.280000</td>\n",
       "      <td>13.614000</td>\n",
       "      <td>14.085333</td>\n",
       "      <td>14.085333</td>\n",
       "      <td>93928500</td>\n",
       "    </tr>\n",
       "    <tr>\n",
       "      <th>2015-01-07</th>\n",
       "      <td>14.223333</td>\n",
       "      <td>14.318667</td>\n",
       "      <td>13.985333</td>\n",
       "      <td>14.063333</td>\n",
       "      <td>14.063333</td>\n",
       "      <td>44526000</td>\n",
       "    </tr>\n",
       "    <tr>\n",
       "      <th>2015-01-08</th>\n",
       "      <td>14.187333</td>\n",
       "      <td>14.253333</td>\n",
       "      <td>14.000667</td>\n",
       "      <td>14.041333</td>\n",
       "      <td>14.041333</td>\n",
       "      <td>51637500</td>\n",
       "    </tr>\n",
       "    <tr>\n",
       "      <th>...</th>\n",
       "      <td>...</td>\n",
       "      <td>...</td>\n",
       "      <td>...</td>\n",
       "      <td>...</td>\n",
       "      <td>...</td>\n",
       "      <td>...</td>\n",
       "    </tr>\n",
       "    <tr>\n",
       "      <th>2025-01-24</th>\n",
       "      <td>414.450012</td>\n",
       "      <td>418.880005</td>\n",
       "      <td>405.779999</td>\n",
       "      <td>406.579987</td>\n",
       "      <td>406.579987</td>\n",
       "      <td>56427100</td>\n",
       "    </tr>\n",
       "    <tr>\n",
       "      <th>2025-01-27</th>\n",
       "      <td>394.799988</td>\n",
       "      <td>406.690002</td>\n",
       "      <td>389.000000</td>\n",
       "      <td>397.149994</td>\n",
       "      <td>397.149994</td>\n",
       "      <td>58125500</td>\n",
       "    </tr>\n",
       "    <tr>\n",
       "      <th>2025-01-28</th>\n",
       "      <td>396.910004</td>\n",
       "      <td>400.589996</td>\n",
       "      <td>386.500000</td>\n",
       "      <td>398.089996</td>\n",
       "      <td>398.089996</td>\n",
       "      <td>48910700</td>\n",
       "    </tr>\n",
       "    <tr>\n",
       "      <th>2025-01-29</th>\n",
       "      <td>395.209991</td>\n",
       "      <td>398.589996</td>\n",
       "      <td>384.480011</td>\n",
       "      <td>389.100006</td>\n",
       "      <td>389.100006</td>\n",
       "      <td>68033600</td>\n",
       "    </tr>\n",
       "    <tr>\n",
       "      <th>2025-01-30</th>\n",
       "      <td>410.779999</td>\n",
       "      <td>412.500000</td>\n",
       "      <td>384.410004</td>\n",
       "      <td>400.279999</td>\n",
       "      <td>400.279999</td>\n",
       "      <td>98092900</td>\n",
       "    </tr>\n",
       "  </tbody>\n",
       "</table>\n",
       "<p>2535 rows × 6 columns</p>\n",
       "</div>"
      ],
      "text/plain": [
       "Price             Open        High         Low       Close   Adj Close  \\\n",
       "Ticker            TSLA        TSLA        TSLA        TSLA               \n",
       "Date                                                                     \n",
       "2015-01-02   14.858000   14.883333   14.217333   14.620667   14.620667   \n",
       "2015-01-05   14.303333   14.433333   13.810667   14.006000   14.006000   \n",
       "2015-01-06   14.004000   14.280000   13.614000   14.085333   14.085333   \n",
       "2015-01-07   14.223333   14.318667   13.985333   14.063333   14.063333   \n",
       "2015-01-08   14.187333   14.253333   14.000667   14.041333   14.041333   \n",
       "...                ...         ...         ...         ...         ...   \n",
       "2025-01-24  414.450012  418.880005  405.779999  406.579987  406.579987   \n",
       "2025-01-27  394.799988  406.690002  389.000000  397.149994  397.149994   \n",
       "2025-01-28  396.910004  400.589996  386.500000  398.089996  398.089996   \n",
       "2025-01-29  395.209991  398.589996  384.480011  389.100006  389.100006   \n",
       "2025-01-30  410.779999  412.500000  384.410004  400.279999  400.279999   \n",
       "\n",
       "Price         Volume  \n",
       "Ticker          TSLA  \n",
       "Date                  \n",
       "2015-01-02  71466000  \n",
       "2015-01-05  80527500  \n",
       "2015-01-06  93928500  \n",
       "2015-01-07  44526000  \n",
       "2015-01-08  51637500  \n",
       "...              ...  \n",
       "2025-01-24  56427100  \n",
       "2025-01-27  58125500  \n",
       "2025-01-28  48910700  \n",
       "2025-01-29  68033600  \n",
       "2025-01-30  98092900  \n",
       "\n",
       "[2535 rows x 6 columns]"
      ]
     },
     "execution_count": 5,
     "metadata": {},
     "output_type": "execute_result"
    }
   ],
   "source": [
    "tsla_data.head(rows)\n"
   ]
  },
  {
   "cell_type": "code",
   "execution_count": 7,
   "metadata": {},
   "outputs": [
    {
     "data": {
      "text/html": [
       "<div>\n",
       "<style scoped>\n",
       "    .dataframe tbody tr th:only-of-type {\n",
       "        vertical-align: middle;\n",
       "    }\n",
       "\n",
       "    .dataframe tbody tr th {\n",
       "        vertical-align: top;\n",
       "    }\n",
       "\n",
       "    .dataframe thead tr th {\n",
       "        text-align: left;\n",
       "    }\n",
       "</style>\n",
       "<table border=\"1\" class=\"dataframe\">\n",
       "  <thead>\n",
       "    <tr>\n",
       "      <th>Price</th>\n",
       "      <th>Open</th>\n",
       "      <th>High</th>\n",
       "      <th>Low</th>\n",
       "      <th>Close</th>\n",
       "      <th>Adj Close</th>\n",
       "      <th>Volume</th>\n",
       "    </tr>\n",
       "    <tr>\n",
       "      <th>Ticker</th>\n",
       "      <th>TSLA</th>\n",
       "      <th>TSLA</th>\n",
       "      <th>TSLA</th>\n",
       "      <th>TSLA</th>\n",
       "      <th></th>\n",
       "      <th>TSLA</th>\n",
       "    </tr>\n",
       "  </thead>\n",
       "  <tbody>\n",
       "    <tr>\n",
       "      <th>count</th>\n",
       "      <td>2535.000000</td>\n",
       "      <td>2535.000000</td>\n",
       "      <td>2535.000000</td>\n",
       "      <td>2535.000000</td>\n",
       "      <td>2535.000000</td>\n",
       "      <td>2.535000e+03</td>\n",
       "    </tr>\n",
       "    <tr>\n",
       "      <th>mean</th>\n",
       "      <td>117.877662</td>\n",
       "      <td>120.474827</td>\n",
       "      <td>115.097514</td>\n",
       "      <td>117.848209</td>\n",
       "      <td>117.848209</td>\n",
       "      <td>1.120308e+08</td>\n",
       "    </tr>\n",
       "    <tr>\n",
       "      <th>std</th>\n",
       "      <td>116.611575</td>\n",
       "      <td>119.236025</td>\n",
       "      <td>113.698930</td>\n",
       "      <td>116.508288</td>\n",
       "      <td>116.508288</td>\n",
       "      <td>7.387509e+07</td>\n",
       "    </tr>\n",
       "    <tr>\n",
       "      <th>min</th>\n",
       "      <td>9.488000</td>\n",
       "      <td>10.331333</td>\n",
       "      <td>9.403333</td>\n",
       "      <td>9.578000</td>\n",
       "      <td>9.578000</td>\n",
       "      <td>1.062000e+07</td>\n",
       "    </tr>\n",
       "    <tr>\n",
       "      <th>25%</th>\n",
       "      <td>17.259334</td>\n",
       "      <td>17.527667</td>\n",
       "      <td>16.942000</td>\n",
       "      <td>17.228000</td>\n",
       "      <td>17.228000</td>\n",
       "      <td>6.680295e+07</td>\n",
       "    </tr>\n",
       "    <tr>\n",
       "      <th>50%</th>\n",
       "      <td>31.299999</td>\n",
       "      <td>32.329334</td>\n",
       "      <td>29.760000</td>\n",
       "      <td>30.298000</td>\n",
       "      <td>30.298000</td>\n",
       "      <td>9.264180e+07</td>\n",
       "    </tr>\n",
       "    <tr>\n",
       "      <th>75%</th>\n",
       "      <td>222.653336</td>\n",
       "      <td>226.696671</td>\n",
       "      <td>217.061661</td>\n",
       "      <td>221.525002</td>\n",
       "      <td>221.525002</td>\n",
       "      <td>1.294283e+08</td>\n",
       "    </tr>\n",
       "    <tr>\n",
       "      <th>max</th>\n",
       "      <td>475.899994</td>\n",
       "      <td>488.540009</td>\n",
       "      <td>457.510010</td>\n",
       "      <td>479.859985</td>\n",
       "      <td>479.859985</td>\n",
       "      <td>9.140820e+08</td>\n",
       "    </tr>\n",
       "  </tbody>\n",
       "</table>\n",
       "</div>"
      ],
      "text/plain": [
       "Price          Open         High          Low        Close    Adj Close  \\\n",
       "Ticker         TSLA         TSLA         TSLA         TSLA                \n",
       "count   2535.000000  2535.000000  2535.000000  2535.000000  2535.000000   \n",
       "mean     117.877662   120.474827   115.097514   117.848209   117.848209   \n",
       "std      116.611575   119.236025   113.698930   116.508288   116.508288   \n",
       "min        9.488000    10.331333     9.403333     9.578000     9.578000   \n",
       "25%       17.259334    17.527667    16.942000    17.228000    17.228000   \n",
       "50%       31.299999    32.329334    29.760000    30.298000    30.298000   \n",
       "75%      222.653336   226.696671   217.061661   221.525002   221.525002   \n",
       "max      475.899994   488.540009   457.510010   479.859985   479.859985   \n",
       "\n",
       "Price         Volume  \n",
       "Ticker          TSLA  \n",
       "count   2.535000e+03  \n",
       "mean    1.120308e+08  \n",
       "std     7.387509e+07  \n",
       "min     1.062000e+07  \n",
       "25%     6.680295e+07  \n",
       "50%     9.264180e+07  \n",
       "75%     1.294283e+08  \n",
       "max     9.140820e+08  "
      ]
     },
     "execution_count": 7,
     "metadata": {},
     "output_type": "execute_result"
    }
   ],
   "source": [
    "tsla_data.describe()\n"
   ]
  },
  {
   "cell_type": "code",
   "execution_count": 8,
   "metadata": {},
   "outputs": [
    {
     "data": {
      "text/plain": [
       "Price      Ticker\n",
       "Open       TSLA      float64\n",
       "High       TSLA      float64\n",
       "Low        TSLA      float64\n",
       "Close      TSLA      float64\n",
       "Adj Close            float64\n",
       "Volume     TSLA        int64\n",
       "dtype: object"
      ]
     },
     "execution_count": 8,
     "metadata": {},
     "output_type": "execute_result"
    }
   ],
   "source": [
    "tsla_data.dtypes\n"
   ]
  },
  {
   "cell_type": "code",
   "execution_count": 9,
   "metadata": {},
   "outputs": [
    {
     "name": "stdout",
     "output_type": "stream",
     "text": [
      "<class 'pandas.core.frame.DataFrame'>\n",
      "DatetimeIndex: 2535 entries, 2015-01-02 to 2025-01-30\n",
      "Data columns (total 6 columns):\n",
      " #   Column          Non-Null Count  Dtype  \n",
      "---  ------          --------------  -----  \n",
      " 0   (Open, TSLA)    2535 non-null   float64\n",
      " 1   (High, TSLA)    2535 non-null   float64\n",
      " 2   (Low, TSLA)     2535 non-null   float64\n",
      " 3   (Close, TSLA)   2535 non-null   float64\n",
      " 4   (Adj Close, )   2535 non-null   float64\n",
      " 5   (Volume, TSLA)  2535 non-null   int64  \n",
      "dtypes: float64(5), int64(1)\n",
      "memory usage: 138.6 KB\n"
     ]
    }
   ],
   "source": [
    "tsla_data.info()\n"
   ]
  },
  {
   "cell_type": "markdown",
   "metadata": {},
   "source": []
  },
  {
   "cell_type": "code",
   "execution_count": null,
   "metadata": {},
   "outputs": [],
   "source": []
  }
 ],
 "metadata": {
  "kernelspec": {
   "display_name": ".week11",
   "language": "python",
   "name": "python3"
  },
  "language_info": {
   "codemirror_mode": {
    "name": "ipython",
    "version": 3
   },
   "file_extension": ".py",
   "mimetype": "text/x-python",
   "name": "python",
   "nbconvert_exporter": "python",
   "pygments_lexer": "ipython3",
   "version": "3.11.2"
  }
 },
 "nbformat": 4,
 "nbformat_minor": 2
}
